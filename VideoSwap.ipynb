{
  "cells": [
    {
      "cell_type": "markdown",
      "metadata": {
        "id": "view-in-github",
        "colab_type": "text"
      },
      "source": [
        "<a href=\"https://colab.research.google.com/github/dhenypatungka/Utilities/blob/main/VideoSwap.ipynb\" target=\"_parent\"><img src=\"https://colab.research.google.com/assets/colab-badge.svg\" alt=\"Open In Colab\"/></a>"
      ]
    },
    {
      "cell_type": "code",
      "execution_count": null,
      "metadata": {
        "cellView": "form",
        "id": "0aHr4Fo-7IRy"
      },
      "outputs": [],
      "source": [
        "# @markdown ## 🌄 1. Install Dependencies\n",
        "!git clone https://github.com/dhenypatungka/MultiSwap.git\n",
        "%cd MultiSwap\n",
        "!wget https://huggingface.co/ezioruan/inswapper_128.onnx/resolve/main/inswapper_128.onnx -O inswapper_128.onnx\n",
        "!mkdir models\n",
        "!mv inswapper_128.onnx ./models\n",
        "!pip install yt-dlp\n",
        "!pip install -r requirements.txt"
      ]
    },
    {
      "cell_type": "code",
      "execution_count": null,
      "metadata": {
        "cellView": "form",
        "id": "TmJgemgmMmxm"
      },
      "outputs": [],
      "source": [
        "# @markdown ## 🌄 Image Source\n",
        "# @markdown Upload your face photo, max 2048 px\n",
        "import os\n",
        "from google.colab import files\n",
        "import shutil\n",
        "\n",
        "\n",
        "# upload images\n",
        "uploaded = files.upload()\n",
        "for filename in uploaded.keys():\n",
        "  os.rename(filename, '/content/image.jpg')"
      ]
    },
    {
      "cell_type": "code",
      "execution_count": null,
      "metadata": {
        "colab": {
          "background_save": true
        },
        "id": "2fPRS4WUmYQo",
        "cellView": "form"
      },
      "outputs": [],
      "source": [
        "# @markdown ## 🌄 Download YouTube Video As Target\n",
        "!pip install yt-dlp\n",
        "import os\n",
        "\n",
        "#@markdown #### Find YouTube video\n",
        "#@markdown ``https://youtu.be/twX1GZBoBmY`` ⛔ <br>\n",
        "#@markdown ``https://www.youtube.com/watch?v=twX1GZBoBmY`` ✅\n",
        "\n",
        "!rm -df youtube.mp4\n",
        "\n",
        "#@markdown ___\n",
        "from urllib import parse as urlparse\n",
        "YOUTUBE_URL = 'https://www.youtube.com/watch?v=S_ttsuSHEuk' #@param {type:\"string\"}\n",
        "url_data = urlparse.urlparse(YOUTUBE_URL)\n",
        "query = urlparse.parse_qs(url_data.query)\n",
        "YOUTUBE_ID = query[\"v\"][0]\n",
        "\n",
        "# remove previous input video\n",
        "!rm -f /content/video.mp4\n",
        "\n",
        "#@markdown ___\n",
        "#@markdown #### Trim (seconds)\n",
        "start = 3 #@param {type:\"integer\"}\n",
        "end = 128 #@param {type:\"integer\"}\n",
        "interval = end - start\n",
        "\n",
        "# Download the YouTube video using yt-dlp\n",
        "!yt-dlp --format \"b[ext=mp4]\" --output \"youtube.%(ext)s\" https://www.youtube.com/watch?v=$YOUTUBE_ID\n",
        "\n",
        "# Cut the video using FFmpeg\n",
        "!ffmpeg -y -i youtube.mp4 -ss {start} -t {interval} -async 1 /content/video.mp4\n",
        "\n",
        "# Preview the trimmed video\n",
        "from IPython.display import HTML\n",
        "from base64 import b64encode\n",
        "mp4 = open('/content/video.mp4','rb').read()\n",
        "data_url = \"data:video/mp4;base64,\" + b64encode(mp4).decode()\n",
        "HTML(f\"\"\"<video width=600 controls><source src=\"{data_url}\"></video>\"\"\")"
      ]
    },
    {
      "cell_type": "code",
      "execution_count": null,
      "metadata": {
        "cellView": "form",
        "id": "lDYdfL3L71i1"
      },
      "outputs": [],
      "source": [
        "# @markdown ## 🌄 Swap Video\n",
        "\n",
        "!python /content/MultiSwap/run.py \\\n",
        "--frame-processor face_swapper face_enhancer \\\n",
        "--target \"/content/video.mp4\" \\\n",
        "--source \"/content/image.jpg\" \\\n",
        "--output \"/content/swapped.mp4\" \\\n",
        "--keep-fps \\\n",
        "--execution-provider cuda \\\n",
        "--temp-frame-format png \\\n",
        "--temp-frame-quality 100 \\\n",
        "--reference-face-position 0\n",
        "\n",
        "######################################################################################################################################\n",
        "# run.py [options]\n",
        "\n",
        "#  -h, --help                                                                 show this help message and exit\n",
        "#  -s SOURCE_PATH, --source SOURCE_PATH                                       select an source image\n",
        "#  -t TARGET_PATH, --target TARGET_PATH                                       select an target image or video\n",
        "#  -o OUTPUT_PATH, --output OUTPUT_PATH                                       select output file or directory\n",
        "#  --frame-processor FRAME_PROCESSOR [FRAME_PROCESSOR ...]                    frame processors (choices: face_swapper, face_enhancer, ...)\n",
        "#  --keep-fps                                                                 keep target fps\n",
        "#  --keep-frames                                                              keep temporary frames\n",
        "#  --skip-audio                                                               skip target audio\n",
        "#  --many-faces                                                               process every face\n",
        "#  --reference-face-position REFERENCE_FACE_POSITION                          position of the reference face\n",
        "#  --reference-frame-number REFERENCE_FRAME_NUMBER                            number of the reference frame\n",
        "#  --similar-face-distance SIMILAR_FACE_DISTANCE                              face distance used for recognition\n",
        "#  --temp-frame-format {jpg,png}                                              image format used for frame extraction\n",
        "#  --temp-frame-quality [0-100]                                               image quality used for frame extraction\n",
        "#  --output-video-encoder {libx264,libx265,libvpx-vp9,h264_nvenc,hevc_nvenc}  encoder used for the output video\n",
        "#  --output-video-quality [0-100]                                             quality used for the output video\n",
        "#  --max-memory MAX_MEMORY                                                    maximum amount of RAM in GB\n",
        "#  --execution-provider {cpu} [{cpu} ...]                                     available execution provider (choices: cpu, ...)\n",
        "#  --execution-threads EXECUTION_THREADS                                      number of execution threads\n",
        "#  -v, --version                                                              show program's version number and exit"
      ]
    },
    {
      "cell_type": "code",
      "execution_count": null,
      "metadata": {
        "cellView": "form",
        "id": "60MvB8X0i9sj"
      },
      "outputs": [],
      "source": [
        "# @markdown ## 🌄 Download Video\n",
        "from google.colab import files\n",
        "finalVideo = \"/content/swapped.mp4\"\n",
        "files.download(finalVideo)\n",
        "print(\"Download Result\")"
      ]
    }
  ],
  "metadata": {
    "accelerator": "GPU",
    "colab": {
      "provenance": [],
      "include_colab_link": true
    },
    "kernelspec": {
      "display_name": "Python 3",
      "name": "python3"
    },
    "language_info": {
      "name": "python"
    }
  },
  "nbformat": 4,
  "nbformat_minor": 0
}
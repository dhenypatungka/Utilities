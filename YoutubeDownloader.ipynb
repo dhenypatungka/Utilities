{
  "nbformat": 4,
  "nbformat_minor": 0,
  "metadata": {
    "colab": {
      "provenance": [],
      "authorship_tag": "ABX9TyPBc8VNX4iiYwB39OOB+57K",
      "include_colab_link": true
    },
    "kernelspec": {
      "name": "python3",
      "display_name": "Python 3"
    },
    "language_info": {
      "name": "python"
    }
  },
  "cells": [
    {
      "cell_type": "markdown",
      "metadata": {
        "id": "view-in-github",
        "colab_type": "text"
      },
      "source": [
        "<a href=\"https://colab.research.google.com/github/dhenypatungka/Utilities/blob/main/YoutubeDownloader.ipynb\" target=\"_parent\"><img src=\"https://colab.research.google.com/assets/colab-badge.svg\" alt=\"Open In Colab\"/></a>"
      ]
    },
    {
      "cell_type": "code",
      "execution_count": null,
      "metadata": {
        "cellView": "form",
        "id": "FbQCtsMHWD_R"
      },
      "outputs": [],
      "source": [
        "#@markdown ##Youtube to MP3 Download\n",
        "#@markdown ####tambahkan link youtube yg valid seperti contoh dibawah.\n",
        "\n",
        "!pip install yt-dlp\n",
        "\n",
        "import yt_dlp\n",
        "URLS = \"https://www.youtube.com/watch?v=6S_yNCdmEJQ\" #@param {type:\"string\"}\n",
        "ydl_opts = {\n",
        "    'format': 'm4a/bestaudio/best',\n",
        "    # ℹ️ See help(yt_dlp.postprocessor) for a list of available Postprocessors and their arguments\n",
        "    'postprocessors': [{  # Extract audio using ffmpeg\n",
        "        'key': 'FFmpegExtractAudio',\n",
        "        'preferredcodec': 'mp3',\n",
        "    }]\n",
        "}\n",
        "\n",
        "with yt_dlp.YoutubeDL(ydl_opts) as ydl:\n",
        "    error_code = ydl.download(URLS)"
      ]
    },
    {
      "cell_type": "code",
      "source": [
        "#@markdown ##Youtube MP4 Download\n",
        "#@markdown ####tambahkan link youtube yg valid seperti contoh dibawah.\n",
        "\n",
        "!pip install yt-dlp\n",
        "\n",
        "import yt_dlp\n",
        "URLS = \"https://www.youtube.com/watch?v=5oQvk7JsKzE\" #@param {type:\"string\"}\n",
        "ydl_opts = {\n",
        "    'format': 'mp4/bestvideo/best'\n",
        "    }\n",
        "\n",
        "\n",
        "with yt_dlp.YoutubeDL(ydl_opts) as ydl:\n",
        "    error_code = ydl.download(URLS)"
      ],
      "metadata": {
        "cellView": "form",
        "id": "YiRq7yRjtb04"
      },
      "execution_count": null,
      "outputs": []
    }
  ]
}
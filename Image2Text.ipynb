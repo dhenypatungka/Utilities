{
  "nbformat": 4,
  "nbformat_minor": 0,
  "metadata": {
    "colab": {
      "provenance": [],
      "gpuType": "T4",
      "authorship_tag": "ABX9TyM119Up/JzwsIIT2gygb5X7",
      "include_colab_link": true
    },
    "kernelspec": {
      "name": "python3",
      "display_name": "Python 3"
    },
    "language_info": {
      "name": "python"
    },
    "accelerator": "GPU"
  },
  "cells": [
    {
      "cell_type": "markdown",
      "metadata": {
        "id": "view-in-github",
        "colab_type": "text"
      },
      "source": [
        "<a href=\"https://colab.research.google.com/github/dhenypatungka/Utilities/blob/main/Image2Text.ipynb\" target=\"_parent\"><img src=\"https://colab.research.google.com/assets/colab-badge.svg\" alt=\"Open In Colab\"/></a>"
      ]
    },
    {
      "cell_type": "code",
      "execution_count": null,
      "metadata": {
        "cellView": "form",
        "id": "lfqKQYuMFa6V"
      },
      "outputs": [],
      "source": [
        "#@markdown ### ♍ **Image2Text**\n",
        "#@markdown - Pastikan memilih T4 GPU untuk hardware accelerator.\n",
        "#@markdown - Tambahkan link gambar yang valid.\n",
        "\n",
        "import requests\n",
        "from PIL import Image\n",
        "from transformers import BlipProcessor, BlipForConditionalGeneration\n",
        "\n",
        "processor = BlipProcessor.from_pretrained(\"Salesforce/blip-image-captioning-large\")\n",
        "model = BlipForConditionalGeneration.from_pretrained(\"Salesforce/blip-image-captioning-large\").to(\"cuda\")\n",
        "\n",
        "LinkGambar = 'https://www.datocms-assets.com/55010/1631448989-1609827493259134-modelo.jpg?auto=format%2Ccompress&cs=srgb' #@param {type:'string'}\n",
        "\n",
        "img_url=LinkGambar\n",
        "raw_image = Image.open(requests.get(img_url, stream=True).raw).convert('RGB')\n",
        "\n",
        "# conditional image captioning\n",
        "text = \"a photography of\"\n",
        "inputs = processor(raw_image, text, return_tensors=\"pt\").to(\"cuda\")\n",
        "\n",
        "out = model.generate(**inputs)\n",
        "print(processor.decode(out[0], skip_special_tokens=True))\n",
        "\n",
        "# unconditional image captioning\n",
        "inputs = processor(raw_image, return_tensors=\"pt\").to(\"cuda\")\n",
        "\n",
        "out = model.generate(**inputs)\n",
        "from IPython.display import clear_output\n",
        "clear_output()\n",
        "print(processor.decode(out[0], skip_special_tokens=True))\n"
      ]
    }
  ]
}
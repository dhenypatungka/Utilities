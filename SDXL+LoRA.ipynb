{
  "nbformat": 4,
  "nbformat_minor": 0,
  "metadata": {
    "colab": {
      "provenance": [],
      "gpuType": "V100",
      "machine_shape": "hm",
      "authorship_tag": "ABX9TyOy5fKMIXr4Kemwz4ARH28b",
      "include_colab_link": true
    },
    "kernelspec": {
      "name": "python3",
      "display_name": "Python 3"
    },
    "language_info": {
      "name": "python"
    },
    "accelerator": "GPU"
  },
  "cells": [
    {
      "cell_type": "markdown",
      "metadata": {
        "id": "view-in-github",
        "colab_type": "text"
      },
      "source": [
        "<a href=\"https://colab.research.google.com/github/dhenypatungka/Utilities/blob/main/SDXL%2BLoRA.ipynb\" target=\"_parent\"><img src=\"https://colab.research.google.com/assets/colab-badge.svg\" alt=\"Open In Colab\"/></a>"
      ]
    },
    {
      "cell_type": "code",
      "execution_count": null,
      "metadata": {
        "id": "CYxdEOtZEEkS",
        "cellView": "form"
      },
      "outputs": [],
      "source": [
        "#@markdown ### ♍ **Install Diffusers**\n",
        "#@markdown - Pastikan memilih T4 GPU untuk hardware accelerator.\n",
        "#@markdown - Tekan gambar folder disamping untuk  melihat hasil generate.\n",
        "\n",
        "from IPython.display import clear_output\n",
        "clear_output()"
      ]
    },
    {
      "cell_type": "code",
      "source": [
        "#@markdown ## ♍ **Generate**\n",
        "#@markdown - Path LoRA dari repo HuggingFace.\n",
        "import torch\n",
        "from diffusers import DiffusionPipeline\n",
        "\n",
        "pipe = DiffusionPipeline.from_pretrained(\n",
        "    \"stabilityai/stable-diffusion-xl-base-1.0\",\n",
        "    variant=\"fp16\",\n",
        "    torch_dtype=torch.float16\n",
        ").to(\"cuda\")\n",
        "\n",
        "# load LoRA\n",
        "LoRA=\"dhenypatungka/dpxl2\" # @param [\"dhenypatungka/dpxl2\", \"Paste Lora Address\"] {allow-input: true}\n",
        "pipe.load_lora_weights(LoRA)\n",
        "\n",
        "Positive = \"old man portrait wearing poor outfit, old room, dark room, light from window, bokeh\" #@param {type:'string'}\n",
        "Negative = \"lowres, graphic, bad anatomy, bad hands, text, error, missing fingers, extra digit, fewer digits, cropped, worst quality, low quality, normal quality, jpeg artifacts, signature, watermark\" #@param {type:'string'}\n",
        "Images = 2 #@param {type:\"slider\", min:1, max:10, step:1}\n",
        "Width=768 #@param {type:\"slider\", min:512, max:1024, step:256}\n",
        "Height=1024 #@param {type:\"slider\", min:512, max:1024, step:256}\n",
        "Step = 20 #@param {type:\"slider\", min:1, max:40, step:1}\n",
        "Guidance= 5 #@param {type:\"slider\", min:1, max:20, step:1}\n",
        "\n",
        "image = pipe(\n",
        "    prompt=Positive,\n",
        "    num_images_per_prompt=Images,\n",
        "    negative_prompt=Negative,\n",
        "    width=Width,\n",
        "    clip_skip=1,\n",
        "    height=Height,\n",
        "    num_inference_steps=Step,\n",
        "    guidance_scale=Guidance,\n",
        ").images\n",
        "\n",
        "import datetime\n",
        "e = datetime.datetime.now()\n",
        "for i, image in enumerate(image):\n",
        "  image.save(f\"/content/{i}dp_{e.hour}{e.minute}{e.second}.jpg\")\n",
        "\n",
        "from IPython.display import clear_output\n",
        "clear_output()"
      ],
      "metadata": {
        "cellView": "form",
        "id": "6BOKDcbUGGEf"
      },
      "execution_count": null,
      "outputs": []
    },
    {
      "cell_type": "code",
      "source": [
        "#@markdown ### ♍ **Restart Session**\n",
        "#@markdown - Restart session jika sering terjadi crash.\n",
        "import os\n",
        "os.kill(os.getpid(), 9)"
      ],
      "metadata": {
        "cellView": "form",
        "id": "07UNE5RPSzKL"
      },
      "execution_count": null,
      "outputs": []
    }
  ]
}